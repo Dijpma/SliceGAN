{
 "cells": [
  {
   "cell_type": "code",
   "execution_count": 1,
   "id": "8ababf8b",
   "metadata": {},
   "outputs": [],
   "source": [
    "import os\n",
    "import shutil\n",
    "import tifffile\n",
    "import numpy as np\n",
    "import matplotlib.pyplot as plt\n",
    "import re"
   ]
  },
  {
   "cell_type": "code",
   "execution_count": 2,
   "id": "91641a6d",
   "metadata": {},
   "outputs": [],
   "source": [
    "data_folder = \"../local_stuff/CarbonFiberData/Initial\""
   ]
  },
  {
   "cell_type": "code",
   "execution_count": null,
   "id": "d38120b3",
   "metadata": {},
   "outputs": [],
   "source": [
    "print(os.listdir(data_folder)[0])"
   ]
  },
  {
   "cell_type": "code",
   "execution_count": null,
   "id": "7f79f9ba",
   "metadata": {},
   "outputs": [],
   "source": [
    "for f in os.listdir(data_folder):\n",
    "    index = int(f[9:13])\n",
    "    \n",
    "    old_f = f\"{data_folder}/{f}\"\n",
    "    new_f = f\"{data_folder}/im_{index}.tif\"\n",
    "    print(new_f)"
   ]
  },
  {
   "cell_type": "code",
   "execution_count": null,
   "id": "b9a9de49",
   "metadata": {},
   "outputs": [],
   "source": [
    "for f in os.listdir(data_folder):\n",
    "    index = int(re.search(r\"\\d+\", f).group(0))\n",
    "    padded_index = f'{index:04.0f}'\n",
    "    old_f = f\"{data_folder}/{f}\"\n",
    "    new_f = f\"{data_folder}/im_{padded_index}.tif\"\n",
    "    print(old_f, new_f)\n",
    "#     os.rename(old_f,new_f)\n"
   ]
  },
  {
   "cell_type": "code",
   "execution_count": 3,
   "id": "1bf18c71",
   "metadata": {},
   "outputs": [
    {
     "name": "stdout",
     "output_type": "stream",
     "text": [
      "['im_0001.tif', 'im_0002.tif', 'im_0003.tif', 'im_0004.tif', 'im_0005.tif', 'im_0006.tif', 'im_0007.tif', 'im_0008.tif', 'im_0009.tif', 'im_0010.tif', 'im_0011.tif', 'im_0012.tif', 'im_0013.tif', 'im_0014.tif', 'im_0015.tif', 'im_0016.tif', 'im_0017.tif', 'im_0018.tif', 'im_0019.tif', 'im_0020.tif', 'im_0021.tif', 'im_0022.tif', 'im_0023.tif', 'im_0024.tif', 'im_0025.tif', 'im_0026.tif', 'im_0027.tif', 'im_0028.tif', 'im_0029.tif', 'im_0030.tif', 'im_0031.tif', 'im_0032.tif', 'im_0033.tif', 'im_0034.tif', 'im_0035.tif', 'im_0036.tif', 'im_0037.tif', 'im_0038.tif', 'im_0039.tif', 'im_0040.tif', 'im_0041.tif', 'im_0042.tif', 'im_0043.tif', 'im_0044.tif', 'im_0045.tif', 'im_0046.tif', 'im_0047.tif', 'im_0048.tif', 'im_0049.tif', 'im_0050.tif', 'im_0051.tif', 'im_0052.tif', 'im_0053.tif', 'im_0054.tif', 'im_0055.tif', 'im_0056.tif', 'im_0057.tif', 'im_0058.tif', 'im_0059.tif', 'im_0060.tif', 'im_0061.tif', 'im_0062.tif', 'im_0063.tif', 'im_0064.tif', 'im_0065.tif', 'im_0066.tif', 'im_0067.tif', 'im_0068.tif', 'im_0069.tif', 'im_0070.tif', 'im_0071.tif', 'im_0072.tif', 'im_0073.tif', 'im_0074.tif', 'im_0075.tif', 'im_0076.tif', 'im_0077.tif', 'im_0078.tif', 'im_0079.tif', 'im_0080.tif', 'im_0081.tif', 'im_0082.tif', 'im_0083.tif', 'im_0084.tif', 'im_0085.tif', 'im_0086.tif', 'im_0087.tif', 'im_0088.tif', 'im_0089.tif', 'im_0090.tif', 'im_0091.tif', 'im_0092.tif', 'im_0093.tif', 'im_0094.tif', 'im_0095.tif', 'im_0096.tif', 'im_0097.tif', 'im_0098.tif', 'im_0099.tif', 'im_0100.tif', 'im_0101.tif', 'im_0102.tif', 'im_0103.tif', 'im_0104.tif', 'im_0105.tif', 'im_0106.tif', 'im_0107.tif', 'im_0108.tif', 'im_0109.tif', 'im_0110.tif', 'im_0111.tif', 'im_0112.tif', 'im_0113.tif', 'im_0114.tif', 'im_0115.tif', 'im_0116.tif', 'im_0117.tif', 'im_0118.tif', 'im_0119.tif', 'im_0120.tif', 'im_0121.tif', 'im_0122.tif', 'im_0123.tif', 'im_0124.tif', 'im_0125.tif', 'im_0126.tif', 'im_0127.tif', 'im_0128.tif', 'im_0129.tif', 'im_0130.tif', 'im_0131.tif', 'im_0132.tif', 'im_0133.tif', 'im_0134.tif', 'im_0135.tif', 'im_0136.tif', 'im_0137.tif', 'im_0138.tif', 'im_0139.tif', 'im_0140.tif', 'im_0141.tif', 'im_0142.tif', 'im_0143.tif', 'im_0144.tif', 'im_0145.tif', 'im_0146.tif', 'im_0147.tif', 'im_0148.tif', 'im_0149.tif', 'im_0150.tif', 'im_0151.tif', 'im_0152.tif', 'im_0153.tif', 'im_0154.tif', 'im_0155.tif', 'im_0156.tif', 'im_0157.tif', 'im_0158.tif', 'im_0159.tif', 'im_0160.tif', 'im_0161.tif', 'im_0162.tif', 'im_0163.tif', 'im_0164.tif', 'im_0165.tif', 'im_0166.tif', 'im_0167.tif', 'im_0168.tif', 'im_0169.tif', 'im_0170.tif', 'im_0171.tif', 'im_0172.tif', 'im_0173.tif', 'im_0174.tif', 'im_0175.tif', 'im_0176.tif', 'im_0177.tif', 'im_0178.tif', 'im_0179.tif', 'im_0180.tif', 'im_0181.tif', 'im_0182.tif', 'im_0183.tif', 'im_0184.tif', 'im_0185.tif', 'im_0186.tif', 'im_0187.tif', 'im_0188.tif', 'im_0189.tif', 'im_0190.tif', 'im_0191.tif', 'im_0192.tif', 'im_0193.tif', 'im_0194.tif', 'im_0195.tif', 'im_0196.tif', 'im_0197.tif', 'im_0198.tif', 'im_0199.tif', 'im_0200.tif', 'im_0201.tif', 'im_0202.tif', 'im_0203.tif', 'im_0204.tif', 'im_0205.tif', 'im_0206.tif', 'im_0207.tif', 'im_0208.tif', 'im_0209.tif', 'im_0210.tif', 'im_0211.tif', 'im_0212.tif', 'im_0213.tif', 'im_0214.tif', 'im_0215.tif', 'im_0216.tif', 'im_0217.tif', 'im_0218.tif', 'im_0219.tif', 'im_0220.tif', 'im_0221.tif', 'im_0222.tif', 'im_0223.tif', 'im_0224.tif', 'im_0225.tif', 'im_0226.tif', 'im_0227.tif', 'im_0228.tif', 'im_0229.tif', 'im_0230.tif', 'im_0231.tif', 'im_0232.tif', 'im_0233.tif', 'im_0234.tif', 'im_0235.tif', 'im_0236.tif', 'im_0237.tif', 'im_0238.tif', 'im_0239.tif', 'im_0240.tif', 'im_0241.tif', 'im_0242.tif', 'im_0243.tif', 'im_0244.tif', 'im_0245.tif', 'im_0246.tif', 'im_0247.tif', 'im_0248.tif', 'im_0249.tif', 'im_0250.tif', 'im_0251.tif', 'im_0252.tif', 'im_0253.tif', 'im_0254.tif', 'im_0255.tif', 'im_0256.tif', 'im_0257.tif', 'im_0258.tif', 'im_0259.tif', 'im_0260.tif', 'im_0261.tif', 'im_0262.tif', 'im_0263.tif', 'im_0264.tif', 'im_0265.tif', 'im_0266.tif', 'im_0267.tif', 'im_0268.tif', 'im_0269.tif', 'im_0270.tif', 'im_0271.tif', 'im_0272.tif', 'im_0273.tif', 'im_0274.tif', 'im_0275.tif', 'im_0276.tif', 'im_0277.tif', 'im_0278.tif', 'im_0279.tif', 'im_0280.tif', 'im_0281.tif', 'im_0282.tif', 'im_0283.tif', 'im_0284.tif', 'im_0285.tif', 'im_0286.tif', 'im_0287.tif', 'im_0288.tif', 'im_0289.tif', 'im_0290.tif', 'im_0291.tif', 'im_0292.tif', 'im_0293.tif', 'im_0294.tif', 'im_0295.tif', 'im_0296.tif', 'im_0297.tif', 'im_0298.tif', 'im_0299.tif', 'im_0300.tif', 'im_0301.tif', 'im_0302.tif', 'im_0303.tif', 'im_0304.tif', 'im_0305.tif', 'im_0306.tif', 'im_0307.tif', 'im_0308.tif', 'im_0309.tif', 'im_0310.tif', 'im_0311.tif', 'im_0312.tif', 'im_0313.tif', 'im_0314.tif', 'im_0315.tif', 'im_0316.tif', 'im_0317.tif', 'im_0318.tif', 'im_0319.tif', 'im_0320.tif', 'im_0321.tif', 'im_0322.tif', 'im_0323.tif', 'im_0324.tif', 'im_0325.tif', 'im_0326.tif', 'im_0327.tif', 'im_0328.tif', 'im_0329.tif', 'im_0330.tif', 'im_0331.tif', 'im_0332.tif', 'im_0333.tif', 'im_0334.tif', 'im_0335.tif', 'im_0336.tif', 'im_0337.tif', 'im_0338.tif', 'im_0339.tif', 'im_0340.tif', 'im_0341.tif', 'im_0342.tif', 'im_0343.tif', 'im_0344.tif', 'im_0345.tif', 'im_0346.tif', 'im_0347.tif', 'im_0348.tif', 'im_0349.tif', 'im_0350.tif', 'im_0351.tif', 'im_0352.tif', 'im_0353.tif', 'im_0354.tif', 'im_0355.tif', 'im_0356.tif', 'im_0357.tif', 'im_0358.tif', 'im_0359.tif', 'im_0360.tif', 'im_0361.tif', 'im_0362.tif', 'im_0363.tif', 'im_0364.tif', 'im_0365.tif', 'im_0366.tif', 'im_0367.tif', 'im_0368.tif', 'im_0369.tif', 'im_0370.tif', 'im_0371.tif', 'im_0372.tif', 'im_0373.tif', 'im_0374.tif', 'im_0375.tif', 'im_0376.tif', 'im_0377.tif', 'im_0378.tif', 'im_0379.tif', 'im_0380.tif', 'im_0381.tif', 'im_0382.tif', 'im_0383.tif', 'im_0384.tif', 'im_0385.tif', 'im_0386.tif', 'im_0387.tif', 'im_0388.tif', 'im_0389.tif', 'im_0390.tif', 'im_0391.tif', 'im_0392.tif', 'im_0393.tif', 'im_0394.tif', 'im_0395.tif', 'im_0396.tif', 'im_0397.tif', 'im_0398.tif', 'im_0399.tif', 'im_0400.tif', 'im_0401.tif', 'im_0402.tif', 'im_0403.tif', 'im_0404.tif', 'im_0405.tif', 'im_0406.tif', 'im_0407.tif', 'im_0408.tif', 'im_0409.tif', 'im_0410.tif', 'im_0411.tif', 'im_0412.tif', 'im_0413.tif', 'im_0414.tif', 'im_0415.tif', 'im_0416.tif', 'im_0417.tif', 'im_0418.tif', 'im_0419.tif', 'im_0420.tif', 'im_0421.tif', 'im_0422.tif', 'im_0423.tif', 'im_0424.tif', 'im_0425.tif', 'im_0426.tif', 'im_0427.tif', 'im_0428.tif', 'im_0429.tif', 'im_0430.tif', 'im_0431.tif', 'im_0432.tif', 'im_0433.tif', 'im_0434.tif', 'im_0435.tif', 'im_0436.tif', 'im_0437.tif', 'im_0438.tif', 'im_0439.tif', 'im_0440.tif', 'im_0441.tif', 'im_0442.tif', 'im_0443.tif', 'im_0444.tif', 'im_0445.tif', 'im_0446.tif', 'im_0447.tif', 'im_0448.tif', 'im_0449.tif', 'im_0450.tif', 'im_0451.tif', 'im_0452.tif', 'im_0453.tif', 'im_0454.tif', 'im_0455.tif', 'im_0456.tif', 'im_0457.tif', 'im_0458.tif', 'im_0459.tif', 'im_0460.tif', 'im_0461.tif', 'im_0462.tif', 'im_0463.tif', 'im_0464.tif', 'im_0465.tif', 'im_0466.tif', 'im_0467.tif', 'im_0468.tif', 'im_0469.tif', 'im_0470.tif', 'im_0471.tif', 'im_0472.tif', 'im_0473.tif', 'im_0474.tif', 'im_0475.tif', 'im_0476.tif', 'im_0477.tif', 'im_0478.tif', 'im_0479.tif', 'im_0480.tif', 'im_0481.tif', 'im_0482.tif', 'im_0483.tif', 'im_0484.tif', 'im_0485.tif', 'im_0486.tif', 'im_0487.tif', 'im_0488.tif', 'im_0489.tif', 'im_0490.tif', 'im_0491.tif', 'im_0492.tif', 'im_0493.tif', 'im_0494.tif', 'im_0495.tif', 'im_0496.tif', 'im_0497.tif', 'im_0498.tif', 'im_0499.tif', 'im_0500.tif', 'im_0501.tif', 'im_0502.tif', 'im_0503.tif', 'im_0504.tif', 'im_0505.tif', 'im_0506.tif', 'im_0507.tif', 'im_0508.tif', 'im_0509.tif', 'im_0510.tif', 'im_0511.tif', 'im_0512.tif', 'im_0513.tif', 'im_0514.tif', 'im_0515.tif', 'im_0516.tif', 'im_0517.tif', 'im_0518.tif', 'im_0519.tif', 'im_0520.tif', 'im_0521.tif', 'im_0522.tif', 'im_0523.tif', 'im_0524.tif', 'im_0525.tif', 'im_0526.tif', 'im_0527.tif', 'im_0528.tif', 'im_0529.tif', 'im_0530.tif', 'im_0531.tif', 'im_0532.tif', 'im_0533.tif', 'im_0534.tif', 'im_0535.tif', 'im_0536.tif', 'im_0537.tif', 'im_0538.tif', 'im_0539.tif', 'im_0540.tif', 'im_0541.tif', 'im_0542.tif', 'im_0543.tif', 'im_0544.tif', 'im_0545.tif', 'im_0546.tif', 'im_0547.tif', 'im_0548.tif', 'im_0549.tif', 'im_0550.tif', 'im_0551.tif', 'im_0552.tif', 'im_0553.tif', 'im_0554.tif', 'im_0555.tif', 'im_0556.tif', 'im_0557.tif', 'im_0558.tif', 'im_0559.tif', 'im_0560.tif', 'im_0561.tif', 'im_0562.tif', 'im_0563.tif', 'im_0564.tif', 'im_0565.tif', 'im_0566.tif', 'im_0567.tif', 'im_0568.tif', 'im_0569.tif', 'im_0570.tif', 'im_0571.tif', 'im_0572.tif', 'im_0573.tif', 'im_0574.tif', 'im_0575.tif', 'im_0576.tif', 'im_0577.tif', 'im_0578.tif', 'im_0579.tif', 'im_0580.tif', 'im_0581.tif', 'im_0582.tif', 'im_0583.tif', 'im_0584.tif', 'im_0585.tif', 'im_0586.tif', 'im_0587.tif', 'im_0588.tif', 'im_0589.tif', 'im_0590.tif', 'im_0591.tif', 'im_0592.tif', 'im_0593.tif', 'im_0594.tif', 'im_0595.tif', 'im_0596.tif', 'im_0597.tif', 'im_0598.tif', 'im_0599.tif', 'im_0600.tif', 'im_0601.tif', 'im_0602.tif', 'im_0603.tif', 'im_0604.tif', 'im_0605.tif', 'im_0606.tif', 'im_0607.tif', 'im_0608.tif', 'im_0609.tif', 'im_0610.tif', 'im_0611.tif', 'im_0612.tif', 'im_0613.tif', 'im_0614.tif', 'im_0615.tif', 'im_0616.tif', 'im_0617.tif', 'im_0618.tif', 'im_0619.tif', 'im_0620.tif', 'im_0621.tif', 'im_0622.tif', 'im_0623.tif', 'im_0624.tif', 'im_0625.tif', 'im_0626.tif', 'im_0627.tif', 'im_0628.tif', 'im_0629.tif', 'im_0630.tif', 'im_0631.tif', 'im_0632.tif', 'im_0633.tif', 'im_0634.tif', 'im_0635.tif', 'im_0636.tif', 'im_0637.tif', 'im_0638.tif', 'im_0639.tif', 'im_0640.tif', 'im_0641.tif', 'im_0642.tif', 'im_0643.tif', 'im_0644.tif', 'im_0645.tif', 'im_0646.tif', 'im_0647.tif', 'im_0648.tif', 'im_0649.tif', 'im_0650.tif', 'im_0651.tif', 'im_0652.tif', 'im_0653.tif', 'im_0654.tif', 'im_0655.tif', 'im_0656.tif', 'im_0657.tif', 'im_0658.tif', 'im_0659.tif', 'im_0660.tif', 'im_0661.tif', 'im_0662.tif', 'im_0663.tif', 'im_0664.tif', 'im_0665.tif', 'im_0666.tif', 'im_0667.tif', 'im_0668.tif', 'im_0669.tif', 'im_0670.tif', 'im_0671.tif', 'im_0672.tif', 'im_0673.tif', 'im_0674.tif', 'im_0675.tif', 'im_0676.tif', 'im_0677.tif', 'im_0678.tif', 'im_0679.tif', 'im_0680.tif', 'im_0681.tif', 'im_0682.tif', 'im_0683.tif', 'im_0684.tif', 'im_0685.tif', 'im_0686.tif', 'im_0687.tif', 'im_0688.tif', 'im_0689.tif', 'im_0690.tif', 'im_0691.tif', 'im_0692.tif', 'im_0693.tif', 'im_0694.tif', 'im_0695.tif', 'im_0696.tif', 'im_0697.tif', 'im_0698.tif', 'im_0699.tif', 'im_0700.tif', 'im_0701.tif', 'im_0702.tif', 'im_0703.tif', 'im_0704.tif', 'im_0705.tif', 'im_0706.tif', 'im_0707.tif', 'im_0708.tif', 'im_0709.tif', 'im_0710.tif', 'im_0711.tif', 'im_0712.tif', 'im_0713.tif', 'im_0714.tif', 'im_0715.tif', 'im_0716.tif', 'im_0717.tif', 'im_0718.tif', 'im_0719.tif', 'im_0720.tif', 'im_0721.tif', 'im_0722.tif', 'im_0723.tif', 'im_0724.tif', 'im_0725.tif', 'im_0726.tif', 'im_0727.tif', 'im_0728.tif', 'im_0729.tif', 'im_0730.tif', 'im_0731.tif', 'im_0732.tif', 'im_0733.tif', 'im_0734.tif', 'im_0735.tif', 'im_0736.tif', 'im_0737.tif', 'im_0738.tif', 'im_0739.tif', 'im_0740.tif', 'im_0741.tif', 'im_0742.tif', 'im_0743.tif', 'im_0744.tif', 'im_0745.tif', 'im_0746.tif', 'im_0747.tif', 'im_0748.tif', 'im_0749.tif', 'im_0750.tif', 'im_0751.tif', 'im_0752.tif', 'im_0753.tif', 'im_0754.tif', 'im_0755.tif', 'im_0756.tif', 'im_0757.tif', 'im_0758.tif', 'im_0759.tif', 'im_0760.tif', 'im_0761.tif', 'im_0762.tif', 'im_0763.tif', 'im_0764.tif', 'im_0765.tif', 'im_0766.tif', 'im_0767.tif', 'im_0768.tif', 'im_0769.tif', 'im_0770.tif', 'im_0771.tif', 'im_0772.tif', 'im_0773.tif', 'im_0774.tif', 'im_0775.tif', 'im_0776.tif', 'im_0777.tif', 'im_0778.tif', 'im_0779.tif', 'im_0780.tif', 'im_0781.tif', 'im_0782.tif', 'im_0783.tif', 'im_0784.tif', 'im_0785.tif', 'im_0786.tif', 'im_0787.tif', 'im_0788.tif', 'im_0789.tif', 'im_0790.tif', 'im_0791.tif', 'im_0792.tif', 'im_0793.tif', 'im_0794.tif', 'im_0795.tif', 'im_0796.tif', 'im_0797.tif', 'im_0798.tif', 'im_0799.tif', 'im_0800.tif', 'im_0801.tif', 'im_0802.tif', 'im_0803.tif', 'im_0804.tif', 'im_0805.tif', 'im_0806.tif', 'im_0807.tif', 'im_0808.tif', 'im_0809.tif', 'im_0810.tif', 'im_0811.tif', 'im_0812.tif', 'im_0813.tif', 'im_0814.tif', 'im_0815.tif', 'im_0816.tif', 'im_0817.tif', 'im_0818.tif', 'im_0819.tif', 'im_0820.tif', 'im_0821.tif', 'im_0822.tif', 'im_0823.tif', 'im_0824.tif', 'im_0825.tif', 'im_0826.tif', 'im_0827.tif', 'im_0828.tif', 'im_0829.tif', 'im_0830.tif', 'im_0831.tif', 'im_0832.tif', 'im_0833.tif', 'im_0834.tif', 'im_0835.tif', 'im_0836.tif', 'im_0837.tif', 'im_0838.tif', 'im_0839.tif', 'im_0840.tif', 'im_0841.tif', 'im_0842.tif', 'im_0843.tif', 'im_0844.tif', 'im_0845.tif', 'im_0846.tif', 'im_0847.tif', 'im_0848.tif', 'im_0849.tif', 'im_0850.tif', 'im_0851.tif', 'im_0852.tif', 'im_0853.tif', 'im_0854.tif', 'im_0855.tif', 'im_0856.tif', 'im_0857.tif', 'im_0858.tif', 'im_0859.tif', 'im_0860.tif', 'im_0861.tif', 'im_0862.tif', 'im_0863.tif', 'im_0864.tif', 'im_0865.tif', 'im_0866.tif', 'im_0867.tif', 'im_0868.tif', 'im_0869.tif', 'im_0870.tif', 'im_0871.tif', 'im_0872.tif', 'im_0873.tif', 'im_0874.tif', 'im_0875.tif', 'im_0876.tif', 'im_0877.tif', 'im_0878.tif', 'im_0879.tif', 'im_0880.tif', 'im_0881.tif', 'im_0882.tif', 'im_0883.tif', 'im_0884.tif', 'im_0885.tif', 'im_0886.tif', 'im_0887.tif', 'im_0888.tif', 'im_0889.tif', 'im_0890.tif', 'im_0891.tif', 'im_0892.tif', 'im_0893.tif', 'im_0894.tif', 'im_0895.tif', 'im_0896.tif', 'im_0897.tif', 'im_0898.tif', 'im_0899.tif', 'im_0900.tif', 'im_0901.tif', 'im_0902.tif', 'im_0903.tif', 'im_0904.tif', 'im_0905.tif', 'im_0906.tif', 'im_0907.tif', 'im_0908.tif', 'im_0909.tif', 'im_0910.tif', 'im_0911.tif', 'im_0912.tif', 'im_0913.tif', 'im_0914.tif', 'im_0915.tif', 'im_0916.tif', 'im_0917.tif', 'im_0918.tif', 'im_0919.tif', 'im_0920.tif', 'im_0921.tif', 'im_0922.tif', 'im_0923.tif', 'im_0924.tif', 'im_0925.tif', 'im_0926.tif', 'im_0927.tif', 'im_0928.tif', 'im_0929.tif', 'im_0930.tif', 'im_0931.tif', 'im_0932.tif', 'im_0933.tif', 'im_0934.tif', 'im_0935.tif', 'im_0936.tif', 'im_0937.tif', 'im_0938.tif', 'im_0939.tif', 'im_0940.tif', 'im_0941.tif', 'im_0942.tif', 'im_0943.tif', 'im_0944.tif', 'im_0945.tif', 'im_0946.tif', 'im_0947.tif', 'im_0948.tif', 'im_0949.tif', 'im_0950.tif', 'im_0951.tif', 'im_0952.tif', 'im_0953.tif', 'im_0954.tif', 'im_0955.tif', 'im_0956.tif', 'im_0957.tif', 'im_0958.tif', 'im_0959.tif', 'im_0960.tif', 'im_0961.tif', 'im_0962.tif', 'im_0963.tif', 'im_0964.tif', 'im_0965.tif', 'im_0966.tif', 'im_0967.tif', 'im_0968.tif', 'im_0969.tif', 'im_0970.tif', 'im_0971.tif', 'im_0972.tif', 'im_0973.tif', 'im_0974.tif', 'im_0975.tif', 'im_0976.tif', 'im_0977.tif', 'im_0978.tif', 'im_0979.tif', 'im_0980.tif', 'im_0981.tif', 'im_0982.tif', 'im_0983.tif', 'im_0984.tif', 'im_0985.tif', 'im_0986.tif', 'im_0987.tif', 'im_0988.tif', 'im_0989.tif', 'im_0990.tif', 'im_0991.tif', 'im_0992.tif', 'im_0993.tif', 'im_0994.tif', 'im_0995.tif', 'im_0996.tif', 'im_0997.tif', 'im_0998.tif', 'im_0999.tif', 'im_1000.tif', 'im_1001.tif', 'im_1002.tif', 'im_1003.tif', 'im_1004.tif', 'im_1005.tif', 'im_1006.tif', 'im_1007.tif', 'im_1008.tif', 'im_1009.tif', 'im_1010.tif', 'im_1011.tif', 'im_1012.tif', 'im_1013.tif', 'im_1014.tif', 'im_1015.tif', 'im_1016.tif', 'im_1017.tif', 'im_1018.tif', 'im_1019.tif', 'im_1020.tif', 'im_1021.tif', 'im_1022.tif', 'im_1023.tif', 'im_1024.tif', 'im_1025.tif', 'im_1026.tif', 'im_1027.tif', 'im_1028.tif', 'im_1029.tif', 'im_1030.tif', 'im_1031.tif', 'im_1032.tif', 'im_1033.tif', 'im_1034.tif', 'im_1035.tif', 'im_1036.tif', 'im_1037.tif', 'im_1038.tif', 'im_1039.tif', 'im_1040.tif', 'im_1041.tif', 'im_1042.tif', 'im_1043.tif', 'im_1044.tif', 'im_1045.tif', 'im_1046.tif', 'im_1047.tif', 'im_1048.tif', 'im_1049.tif', 'im_1050.tif', 'im_1051.tif', 'im_1052.tif', 'im_1053.tif', 'im_1054.tif', 'im_1055.tif', 'im_1056.tif', 'im_1057.tif', 'im_1058.tif', 'im_1059.tif', 'im_1060.tif', 'im_1061.tif', 'im_1062.tif', 'im_1063.tif', 'im_1064.tif', 'im_1065.tif', 'im_1066.tif', 'im_1067.tif', 'im_1068.tif', 'im_1069.tif', 'im_1070.tif', 'im_1071.tif', 'im_1072.tif', 'im_1073.tif', 'im_1074.tif', 'im_1075.tif', 'im_1076.tif', 'im_1077.tif', 'im_1078.tif', 'im_1079.tif', 'im_1080.tif', 'im_1081.tif', 'im_1082.tif', 'im_1083.tif', 'im_1084.tif', 'im_1085.tif', 'im_1086.tif', 'im_1087.tif', 'im_1088.tif', 'im_1089.tif', 'im_1090.tif', 'im_1091.tif', 'im_1092.tif', 'im_1093.tif', 'im_1094.tif', 'im_1095.tif', 'im_1096.tif', 'im_1097.tif', 'im_1098.tif', 'im_1099.tif', 'im_1100.tif', 'im_1101.tif', 'im_1102.tif', 'im_1103.tif', 'im_1104.tif', 'im_1105.tif', 'im_1106.tif', 'im_1107.tif', 'im_1108.tif', 'im_1109.tif', 'im_1110.tif', 'im_1111.tif', 'im_1112.tif', 'im_1113.tif', 'im_1114.tif', 'im_1115.tif', 'im_1116.tif', 'im_1117.tif', 'im_1118.tif', 'im_1119.tif', 'im_1120.tif', 'im_1121.tif', 'im_1122.tif', 'im_1123.tif', 'im_1124.tif', 'im_1125.tif', 'im_1126.tif', 'im_1127.tif', 'im_1128.tif', 'im_1129.tif', 'im_1130.tif', 'im_1131.tif', 'im_1132.tif', 'im_1133.tif', 'im_1134.tif', 'im_1135.tif', 'im_1136.tif', 'im_1137.tif', 'im_1138.tif', 'im_1139.tif', 'im_1140.tif', 'im_1141.tif', 'im_1142.tif', 'im_1143.tif', 'im_1144.tif', 'im_1145.tif', 'im_1146.tif', 'im_1147.tif', 'im_1148.tif', 'im_1149.tif', 'im_1150.tif', 'im_1151.tif', 'im_1152.tif', 'im_1153.tif', 'im_1154.tif', 'im_1155.tif', 'im_1156.tif', 'im_1157.tif', 'im_1158.tif', 'im_1159.tif', 'im_1160.tif', 'im_1161.tif', 'im_1162.tif', 'im_1163.tif', 'im_1164.tif', 'im_1165.tif', 'im_1166.tif', 'im_1167.tif', 'im_1168.tif', 'im_1169.tif', 'im_1170.tif', 'im_1171.tif', 'im_1172.tif', 'im_1173.tif', 'im_1174.tif', 'im_1175.tif', 'im_1176.tif', 'im_1177.tif', 'im_1178.tif', 'im_1179.tif', 'im_1180.tif', 'im_1181.tif', 'im_1182.tif', 'im_1183.tif', 'im_1184.tif', 'im_1185.tif', 'im_1186.tif', 'im_1187.tif', 'im_1188.tif', 'im_1189.tif', 'im_1190.tif', 'im_1191.tif', 'im_1192.tif', 'im_1193.tif', 'im_1194.tif', 'im_1195.tif', 'im_1196.tif', 'im_1197.tif', 'im_1198.tif', 'im_1199.tif', 'im_1200.tif', 'im_1201.tif', 'im_1202.tif', 'im_1203.tif', 'im_1204.tif', 'im_1205.tif', 'im_1206.tif', 'im_1207.tif', 'im_1208.tif', 'im_1209.tif', 'im_1210.tif', 'im_1211.tif', 'im_1212.tif', 'im_1213.tif', 'im_1214.tif', 'im_1215.tif', 'im_1216.tif', 'im_1217.tif', 'im_1218.tif', 'im_1219.tif', 'im_1220.tif', 'im_1221.tif', 'im_1222.tif', 'im_1223.tif', 'im_1224.tif', 'im_1225.tif', 'im_1226.tif', 'im_1227.tif', 'im_1228.tif', 'im_1229.tif', 'im_1230.tif', 'im_1231.tif', 'im_1232.tif', 'im_1233.tif', 'im_1234.tif', 'im_1235.tif', 'im_1236.tif', 'im_1237.tif', 'im_1238.tif', 'im_1239.tif', 'im_1240.tif', 'im_1241.tif', 'im_1242.tif', 'im_1243.tif', 'im_1244.tif', 'im_1245.tif', 'im_1246.tif', 'im_1247.tif', 'im_1248.tif', 'im_1249.tif', 'im_1250.tif', 'im_1251.tif', 'im_1252.tif', 'im_1253.tif', 'im_1254.tif', 'im_1255.tif', 'im_1256.tif', 'im_1257.tif', 'im_1258.tif', 'im_1259.tif', 'im_1260.tif', 'im_1261.tif', 'im_1262.tif', 'im_1263.tif', 'im_1264.tif', 'im_1265.tif', 'im_1266.tif', 'im_1267.tif', 'im_1268.tif', 'im_1269.tif', 'im_1270.tif', 'im_1271.tif', 'im_1272.tif', 'im_1273.tif', 'im_1274.tif', 'im_1275.tif', 'im_1276.tif', 'im_1277.tif', 'im_1278.tif', 'im_1279.tif', 'im_1280.tif', 'im_1281.tif', 'im_1282.tif', 'im_1283.tif', 'im_1284.tif', 'im_1285.tif', 'im_1286.tif', 'im_1287.tif', 'im_1288.tif', 'im_1289.tif', 'im_1290.tif', 'im_1291.tif', 'im_1292.tif', 'im_1293.tif', 'im_1294.tif', 'im_1295.tif', 'im_1296.tif', 'im_1297.tif', 'im_1298.tif', 'im_1299.tif', 'im_1300.tif', 'im_1301.tif', 'im_1302.tif', 'im_1303.tif', 'im_1304.tif', 'im_1305.tif', 'im_1306.tif', 'im_1307.tif', 'im_1308.tif', 'im_1309.tif', 'im_1310.tif', 'im_1311.tif', 'im_1312.tif', 'im_1313.tif', 'im_1314.tif', 'im_1315.tif', 'im_1316.tif', 'im_1317.tif', 'im_1318.tif', 'im_1319.tif', 'im_1320.tif', 'im_1321.tif', 'im_1322.tif', 'im_1323.tif', 'im_1324.tif', 'im_1325.tif', 'im_1326.tif', 'im_1327.tif', 'im_1328.tif', 'im_1329.tif', 'im_1330.tif', 'im_1331.tif', 'im_1332.tif', 'im_1333.tif', 'im_1334.tif', 'im_1335.tif', 'im_1336.tif', 'im_1337.tif', 'im_1338.tif', 'im_1339.tif', 'im_1340.tif', 'im_1341.tif', 'im_1342.tif', 'im_1343.tif', 'im_1344.tif', 'im_1345.tif', 'im_1346.tif', 'im_1347.tif', 'im_1348.tif', 'im_1349.tif', 'im_1350.tif', 'im_1351.tif', 'im_1352.tif', 'im_1353.tif', 'im_1354.tif', 'im_1355.tif', 'im_1356.tif', 'im_1357.tif', 'im_1358.tif', 'im_1359.tif', 'im_1360.tif', 'im_1361.tif', 'im_1362.tif', 'im_1363.tif', 'im_1364.tif', 'im_1365.tif', 'im_1366.tif', 'im_1367.tif', 'im_1368.tif', 'im_1369.tif', 'im_1370.tif', 'im_1371.tif', 'im_1372.tif', 'im_1373.tif', 'im_1374.tif', 'im_1375.tif', 'im_1376.tif', 'im_1377.tif', 'im_1378.tif', 'im_1379.tif', 'im_1380.tif', 'im_1381.tif', 'im_1382.tif', 'im_1383.tif', 'im_1384.tif', 'im_1385.tif', 'im_1386.tif', 'im_1387.tif', 'im_1388.tif', 'im_1389.tif', 'im_1390.tif', 'im_1391.tif', 'im_1392.tif', 'im_1393.tif', 'im_1394.tif', 'im_1395.tif', 'im_1396.tif', 'im_1397.tif', 'im_1398.tif', 'im_1399.tif', 'im_1400.tif', 'im_1401.tif', 'im_1402.tif', 'im_1403.tif', 'im_1404.tif', 'im_1405.tif', 'im_1406.tif', 'im_1407.tif', 'im_1408.tif', 'im_1409.tif', 'im_1410.tif', 'im_1411.tif', 'im_1412.tif', 'im_1413.tif', 'im_1414.tif', 'im_1415.tif', 'im_1416.tif']\n"
     ]
    }
   ],
   "source": [
    "tif_files = os.listdir(data_folder)\n",
    "tif_files.sort( key = lambda s: int(s[3:7]))\n",
    "print(tif_files)"
   ]
  },
  {
   "cell_type": "code",
   "execution_count": null,
   "id": "54beef31",
   "metadata": {},
   "outputs": [],
   "source": [
    "print(tif_array.shape)\n",
    "print(tif_array.max())\n",
    "print(tif_array.min())"
   ]
  },
  {
   "cell_type": "code",
   "execution_count": null,
   "id": "0a711143",
   "metadata": {},
   "outputs": [],
   "source": [
    "print(tif_files[21])\n",
    "print(2016 - 1100)"
   ]
  },
  {
   "cell_type": "code",
   "execution_count": null,
   "id": "6b59b542",
   "metadata": {},
   "outputs": [],
   "source": [
    "a_bin = np.zeros((1416, 916, 916), dtype = np.int8)\n",
    "for f_i, f in enumerate(tif_files):\n",
    "    if f_i % 50 == 0:\n",
    "        print(f_i)\n",
    "    path = data_folder + \"/\" + f\n",
    "    one_tif = np.array(tifffile.imread(path))\n",
    "    one_tif_cropped = one_tif[550:-550, 550:-550]\n",
    "    one_tif_bin = (one_tif_cropped < 40000).astype(np.int8)\n",
    "    a_bin[f_i,:,:] = one_tif_bin"
   ]
  },
  {
   "cell_type": "code",
   "execution_count": null,
   "id": "3c1ba1b4",
   "metadata": {},
   "outputs": [],
   "source": [
    "print(a_bin.shape)"
   ]
  },
  {
   "cell_type": "code",
   "execution_count": null,
   "id": "d46c1bc0",
   "metadata": {},
   "outputs": [],
   "source": [
    "tifffile.imwrite(\"3D_data_bin.tif\", a_bin)"
   ]
  },
  {
   "cell_type": "code",
   "execution_count": 4,
   "id": "8e441b65",
   "metadata": {},
   "outputs": [
    {
     "name": "stdout",
     "output_type": "stream",
     "text": [
      "0\n",
      "50\n",
      "100\n",
      "150\n",
      "200\n",
      "250\n",
      "300\n",
      "350\n",
      "400\n",
      "450\n",
      "500\n",
      "550\n",
      "600\n",
      "650\n",
      "700\n",
      "750\n",
      "800\n",
      "850\n",
      "900\n",
      "950\n",
      "1000\n",
      "1050\n",
      "1100\n",
      "1150\n",
      "1200\n",
      "1250\n",
      "1300\n",
      "1350\n",
      "1400\n"
     ]
    }
   ],
   "source": [
    "a_gray = np.zeros((1416, 916, 916), dtype = np.int8)\n",
    "for f_i, f in enumerate(tif_files):\n",
    "    if f_i % 50 == 0:\n",
    "        print(f_i)\n",
    "    path = data_folder + \"/\" + f\n",
    "    one_tif = np.array(tifffile.imread(path))\n",
    "    one_tif_cropped = one_tif[550:-550, 550:-550]\n",
    "#     one_tif_bin = (one_tif_cropped < 40000).astype(np.int8)\n",
    "    a_gray[f_i,:,:] = one_tif_cropped"
   ]
  },
  {
   "cell_type": "code",
   "execution_count": 6,
   "id": "177a3ed8",
   "metadata": {},
   "outputs": [
    {
     "name": "stdout",
     "output_type": "stream",
     "text": [
      "127 -128\n"
     ]
    }
   ],
   "source": [
    "a_max = a_gray.max()\n",
    "a_min = a_gray.min()\n",
    "print(a_max, a_min)"
   ]
  },
  {
   "cell_type": "code",
   "execution_count": 7,
   "id": "deb89723",
   "metadata": {},
   "outputs": [],
   "source": [
    "tifffile.imwrite(\"3D_data_gray.tif\", a_gray)"
   ]
  },
  {
   "cell_type": "code",
   "execution_count": null,
   "id": "e6fb5dba",
   "metadata": {},
   "outputs": [],
   "source": []
  },
  {
   "cell_type": "code",
   "execution_count": null,
   "id": "888c2ed8",
   "metadata": {},
   "outputs": [],
   "source": [
    "fiber_mask = cropped_image < 40000\n",
    "bin_image = fiber_mask.astype(np.int64)\n",
    "fig, ax = plt.subplots( figsize = (6, 6))\n",
    "ax.imshow(bin_image, cmap = \"gray\")"
   ]
  }
 ],
 "metadata": {
  "kernelspec": {
   "display_name": "Python 3 (ipykernel)",
   "language": "python",
   "name": "python3"
  },
  "language_info": {
   "codemirror_mode": {
    "name": "ipython",
    "version": 3
   },
   "file_extension": ".py",
   "mimetype": "text/x-python",
   "name": "python",
   "nbconvert_exporter": "python",
   "pygments_lexer": "ipython3",
   "version": "3.8.10"
  }
 },
 "nbformat": 4,
 "nbformat_minor": 5
}
