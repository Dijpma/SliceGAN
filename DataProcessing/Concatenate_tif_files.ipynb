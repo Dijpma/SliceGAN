{
 "cells": [
  {
   "cell_type": "code",
   "execution_count": null,
   "id": "8ababf8b",
   "metadata": {},
   "outputs": [],
   "source": [
    "import os\n",
    "import shutil\n",
    "import tifffile\n",
    "import numpy as np\n",
    "import matplotlib.pyplot as plt\n",
    "import re"
   ]
  },
  {
   "cell_type": "code",
   "execution_count": null,
   "id": "91641a6d",
   "metadata": {},
   "outputs": [],
   "source": [
    "data_folder = \"../local_stuff/CarbonFiberData/Initial\""
   ]
  },
  {
   "cell_type": "code",
   "execution_count": null,
   "id": "d38120b3",
   "metadata": {},
   "outputs": [],
   "source": [
    "print(os.listdir(data_folder)[0])"
   ]
  },
  {
   "cell_type": "code",
   "execution_count": null,
   "id": "7f79f9ba",
   "metadata": {},
   "outputs": [],
   "source": [
    "for f in os.listdir(data_folder):\n",
    "    index = int(f[9:13])\n",
    "    \n",
    "    old_f = f\"{data_folder}/{f}\"\n",
    "    new_f = f\"{data_folder}/im_{index}.tif\"\n",
    "    print(new_f)"
   ]
  },
  {
   "cell_type": "code",
   "execution_count": null,
   "id": "b9a9de49",
   "metadata": {},
   "outputs": [],
   "source": [
    "for f in os.listdir(data_folder):\n",
    "    index = int(re.search(r\"\\d+\", f).group(0))\n",
    "    padded_index = f'{index:04.0f}'\n",
    "    old_f = f\"{data_folder}/{f}\"\n",
    "    new_f = f\"{data_folder}/im_{padded_index}.tif\"\n",
    "    print(old_f, new_f)\n",
    "#     os.rename(old_f,new_f)\n"
   ]
  },
  {
   "cell_type": "code",
   "execution_count": null,
   "id": "1bf18c71",
   "metadata": {},
   "outputs": [],
   "source": [
    "tif_files = os.listdir(data_folder)\n",
    "tif_files.sort( key = lambda s: int(s[3:7]))\n",
    "print(tif_files)"
   ]
  },
  {
   "cell_type": "code",
   "execution_count": null,
   "id": "0a711143",
   "metadata": {},
   "outputs": [],
   "source": [
    "print(tif_files[21])\n",
    "print(2016 - 1100)"
   ]
  },
  {
   "cell_type": "code",
   "execution_count": 5,
   "id": "6b59b542",
   "metadata": {},
   "outputs": [
    {
     "name": "stdout",
     "output_type": "stream",
     "text": [
      "0\n",
      "50\n",
      "100\n",
      "150\n",
      "200\n",
      "250\n",
      "300\n",
      "350\n",
      "400\n",
      "450\n",
      "500\n",
      "550\n",
      "600\n",
      "650\n",
      "700\n",
      "750\n",
      "800\n",
      "850\n",
      "900\n",
      "950\n",
      "1000\n",
      "1050\n",
      "1100\n",
      "1150\n",
      "1200\n",
      "1250\n",
      "1300\n",
      "1350\n",
      "1400\n"
     ]
    }
   ],
   "source": [
    "a_bin = np.zeros((1416, 916, 916), dtype = np.int8)\n",
    "for f_i, f in enumerate(tif_files):\n",
    "    if f_i % 50 == 0:\n",
    "        print(f_i)\n",
    "    path = data_folder + \"/\" + f\n",
    "    one_tif = np.array(tifffile.imread(path))\n",
    "    one_tif_cropped = one_tif[550:-550, 550:-550]\n",
    "    one_tif_bin = (one_tif_cropped < 35000).astype(np.int8)\n",
    "    a_bin[f_i,:,:] = one_tif_bin"
   ]
  },
  {
   "cell_type": "code",
   "execution_count": null,
   "id": "3c1ba1b4",
   "metadata": {},
   "outputs": [],
   "source": [
    "print(a_bin.shape)"
   ]
  },
  {
   "cell_type": "code",
   "execution_count": 6,
   "id": "d46c1bc0",
   "metadata": {},
   "outputs": [],
   "source": [
    "tifffile.imwrite(\"3D_data_bin.tif\", a_bin)"
   ]
  },
  {
   "cell_type": "code",
   "execution_count": null,
   "id": "8e441b65",
   "metadata": {},
   "outputs": [],
   "source": [
    "a_gray = np.zeros((1416, 916, 916), dtype = np.int8)\n",
    "for f_i, f in enumerate(tif_files):\n",
    "    if f_i % 50 == 0:\n",
    "        print(f_i)\n",
    "    path = data_folder + \"/\" + f\n",
    "    one_tif = np.array(tifffile.imread(path))\n",
    "    one_tif_cropped = one_tif[550:-550, 550:-550]\n",
    "#     one_tif_bin = (one_tif_cropped < 40000).astype(np.int8)\n",
    "    a_gray[f_i,:,:] = one_tif_cropped"
   ]
  },
  {
   "cell_type": "code",
   "execution_count": null,
   "id": "177a3ed8",
   "metadata": {},
   "outputs": [],
   "source": [
    "a_max = a_gray.max()\n",
    "a_min = a_gray.min()\n",
    "print(a_max, a_min)"
   ]
  },
  {
   "cell_type": "code",
   "execution_count": null,
   "id": "deb89723",
   "metadata": {},
   "outputs": [],
   "source": [
    "tifffile.imwrite(\"3D_data_gray.tif\", a_gray)"
   ]
  }
 ],
 "metadata": {
  "kernelspec": {
   "display_name": "Python 3 (ipykernel)",
   "language": "python",
   "name": "python3"
  },
  "language_info": {
   "codemirror_mode": {
    "name": "ipython",
    "version": 3
   },
   "file_extension": ".py",
   "mimetype": "text/x-python",
   "name": "python",
   "nbconvert_exporter": "python",
   "pygments_lexer": "ipython3",
   "version": "3.8.10"
  }
 },
 "nbformat": 4,
 "nbformat_minor": 5
}
